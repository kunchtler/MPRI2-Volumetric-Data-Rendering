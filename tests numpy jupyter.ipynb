{
 "cells": [
  {
   "cell_type": "code",
   "execution_count": 1,
   "id": "ed53fb6c",
   "metadata": {},
   "outputs": [],
   "source": [
    "import numpy as np\n",
    "import matplotlib.pyplot as plt"
   ]
  },
  {
   "cell_type": "code",
   "execution_count": 16,
   "id": "0f9eeb32",
   "metadata": {},
   "outputs": [
    {
     "data": {
      "text/plain": [
       "True"
      ]
     },
     "execution_count": 16,
     "metadata": {},
     "output_type": "execute_result"
    }
   ],
   "source": [
    "a = np.array([[1, 2, 0], [1, 1, 1]])\n",
    "a.any()"
   ]
  },
  {
   "cell_type": "code",
   "execution_count": 19,
   "id": "060ffeaa",
   "metadata": {},
   "outputs": [
    {
     "data": {
      "text/plain": [
       "False"
      ]
     },
     "execution_count": 19,
     "metadata": {},
     "output_type": "execute_result"
    }
   ],
   "source": [
    "b = np.zeros((3, 4))\n",
    "b.any()"
   ]
  },
  {
   "cell_type": "code",
   "execution_count": 78,
   "id": "00db6e82",
   "metadata": {},
   "outputs": [
    {
     "data": {
      "text/plain": [
       "array([1., 1., 1.])"
      ]
     },
     "execution_count": 78,
     "metadata": {},
     "output_type": "execute_result"
    }
   ],
   "source": [
    "c = np.zeros((3,))\n",
    "c += 1\n",
    "c"
   ]
  },
  {
   "cell_type": "code",
   "execution_count": 79,
   "id": "67df718e",
   "metadata": {},
   "outputs": [
    {
     "data": {
      "text/plain": [
       "array([0.57735027, 0.57735027, 0.57735027])"
      ]
     },
     "execution_count": 79,
     "metadata": {},
     "output_type": "execute_result"
    }
   ],
   "source": [
    "c = c / (np.sqrt(np.vdot(c, c)))\n",
    "c"
   ]
  },
  {
   "cell_type": "code",
   "execution_count": 80,
   "id": "43a3358f",
   "metadata": {},
   "outputs": [
    {
     "data": {
      "text/plain": [
       "1.0"
      ]
     },
     "execution_count": 80,
     "metadata": {},
     "output_type": "execute_result"
    }
   ],
   "source": [
    "np.sqrt(c[0]**2 + c[1]**2 + c[2]**2)"
   ]
  },
  {
   "cell_type": "code",
   "execution_count": 88,
   "id": "b7956c8d",
   "metadata": {},
   "outputs": [
    {
     "data": {
      "text/plain": [
       "array([ 4, 10, 18])"
      ]
     },
     "execution_count": 88,
     "metadata": {},
     "output_type": "execute_result"
    }
   ],
   "source": [
    "a = np.array([1, 2, 3])\n",
    "b = np.array([4, 5, 6])\n",
    "(a*b)"
   ]
  },
  {
   "cell_type": "code",
   "execution_count": 90,
   "id": "6e93c5e8",
   "metadata": {},
   "outputs": [
    {
     "data": {
      "text/plain": [
       "array([[0., 0., 0.],\n",
       "       [0., 0., 0.],\n",
       "       [0., 0., 0.]])"
      ]
     },
     "execution_count": 90,
     "metadata": {},
     "output_type": "execute_result"
    }
   ],
   "source": [
    "a = np.zeros((3, 3))\n",
    "a"
   ]
  },
  {
   "cell_type": "code",
   "execution_count": 93,
   "id": "6ade80fe",
   "metadata": {},
   "outputs": [
    {
     "data": {
      "text/plain": [
       "array([[0., 0., 0.],\n",
       "       [2., 3., 4.],\n",
       "       [0., 0., 0.]])"
      ]
     },
     "execution_count": 93,
     "metadata": {},
     "output_type": "execute_result"
    }
   ],
   "source": [
    "a[1] = [2, 3, 4]\n",
    "a"
   ]
  },
  {
   "cell_type": "code",
   "execution_count": 133,
   "id": "7ed54191",
   "metadata": {},
   "outputs": [
    {
     "data": {
      "text/plain": [
       "array([[[1., 0., 0., 1.],\n",
       "        [1., 1., 0., 1.]],\n",
       "\n",
       "       [[0., 1., 0., 1.],\n",
       "        [1., 1., 1., 1.]]], dtype=float32)"
      ]
     },
     "execution_count": 133,
     "metadata": {},
     "output_type": "execute_result"
    }
   ],
   "source": [
    "a = np.array([[[1.0, 0.0, 0.0, 1.0], [1.0, 1.0, 0.0, 1.0]],[[.0, 1.0, 0.0, 1.0], [1.0, 1.0, 1.0, 1.0]]], dtype=np.float32)\n",
    "a\n",
    "#plt.imshow(a)\n",
    "#plt.plot()"
   ]
  },
  {
   "cell_type": "code",
   "execution_count": 172,
   "id": "672101b0",
   "metadata": {
    "scrolled": true
   },
   "outputs": [
    {
     "data": {
      "image/png": "[encoded data removed]",
      "text/plain": [
       "<Figure size 432x288 with 1 Axes>"
      ]
     },
     "metadata": {
      "needs_background": "light"
     },
     "output_type": "display_data"
    }
   ],
   "source": [
    "a = np.array([[[1.0, 0.0, 0.0, 1.0], [1.0, 1.0, 0.0, 1.0]],[[.0, 1.0, 0.0, 1.0], [.0, 1.0, 1.0, 1.0]]], dtype=np.float32)\n",
    "a = np.transpose(a, axes = (1, 0, 2))\n",
    "plt.imshow(a, origin = 'lower')\n",
    "plt.show()"
   ]
  },
  {
   "cell_type": "code",
   "execution_count": 101,
   "id": "25f006b8",
   "metadata": {},
   "outputs": [
    {
     "ename": "ValueError",
     "evalue": "operands could not be broadcast together with shapes (2,3) (2,) ",
     "output_type": "error",
     "traceback": [
      "\u001b[1;31m---------------------------------------------------------------------------\u001b[0m",
      "\u001b[1;31mValueError\u001b[0m                                Traceback (most recent call last)",
      "\u001b[1;32m~\\AppData\\Local\\Temp/ipykernel_12920/4060305310.py\u001b[0m in \u001b[0;36m<module>\u001b[1;34m\u001b[0m\n\u001b[0;32m      1\u001b[0m \u001b[0ma\u001b[0m \u001b[1;33m=\u001b[0m \u001b[0mnp\u001b[0m\u001b[1;33m.\u001b[0m\u001b[0marray\u001b[0m\u001b[1;33m(\u001b[0m\u001b[1;33m[\u001b[0m\u001b[1;33m[\u001b[0m\u001b[1;36m1\u001b[0m\u001b[1;33m,\u001b[0m \u001b[1;36m2\u001b[0m\u001b[1;33m,\u001b[0m \u001b[1;36m3\u001b[0m\u001b[1;33m]\u001b[0m\u001b[1;33m,\u001b[0m \u001b[1;33m[\u001b[0m\u001b[1;36m4\u001b[0m\u001b[1;33m,\u001b[0m \u001b[1;36m5\u001b[0m\u001b[1;33m,\u001b[0m \u001b[1;36m6\u001b[0m\u001b[1;33m]\u001b[0m\u001b[1;33m]\u001b[0m\u001b[1;33m)\u001b[0m\u001b[1;33m\u001b[0m\u001b[1;33m\u001b[0m\u001b[0m\n\u001b[0;32m      2\u001b[0m \u001b[0mb\u001b[0m \u001b[1;33m=\u001b[0m \u001b[0mnp\u001b[0m\u001b[1;33m.\u001b[0m\u001b[0marray\u001b[0m\u001b[1;33m(\u001b[0m\u001b[1;33m[\u001b[0m\u001b[1;36m2\u001b[0m\u001b[1;33m,\u001b[0m \u001b[1;36m3\u001b[0m\u001b[1;33m]\u001b[0m\u001b[1;33m)\u001b[0m\u001b[1;33m\u001b[0m\u001b[1;33m\u001b[0m\u001b[0m\n\u001b[1;32m----> 3\u001b[1;33m \u001b[0ma\u001b[0m\u001b[1;33m*\u001b[0m\u001b[0mb\u001b[0m\u001b[1;33m\u001b[0m\u001b[1;33m\u001b[0m\u001b[0m\n\u001b[0m",
      "\u001b[1;31mValueError\u001b[0m: operands could not be broadcast together with shapes (2,3) (2,) "
     ]
    }
   ],
   "source": [
    "a = np.array([[1, 2, 3], [4, 5, 6]])\n",
    "b = np.array([2, 3])\n",
    "a*b"
   ]
  },
  {
   "cell_type": "code",
   "execution_count": 5,
   "id": "29b6a60a",
   "metadata": {},
   "outputs": [
    {
     "name": "stdout",
     "output_type": "stream",
     "text": [
      "[1 2 3] [4 2 3]\n"
     ]
    }
   ],
   "source": [
    "a = np.array([1, 2, 3])\n",
    "b = np.array(a)\n",
    "b[0] = 4\n",
    "print(a, b)"
   ]
  },
  {
   "cell_type": "code",
   "execution_count": 20,
   "id": "14803247",
   "metadata": {},
   "outputs": [
    {
     "data": {
      "text/plain": [
       "array([[ 1,  2,  3],\n",
       "       [ 8, 10, 12],\n",
       "       [21, 24, 27]])"
      ]
     },
     "execution_count": 20,
     "metadata": {},
     "output_type": "execute_result"
    }
   ],
   "source": [
    "vec = np.array([1, 2, 3])\n",
    "mat = np.array([[1, 2, 3],\n",
    "             [4, 5, 6],\n",
    "             [7, 8, 9]])\n",
    "(vec * mat.T).T"
   ]
  },
  {
   "cell_type": "code",
   "execution_count": 23,
   "id": "4b77402a",
   "metadata": {},
   "outputs": [
    {
     "data": {
      "text/plain": [
       "array([14, 32, 50])"
      ]
     },
     "execution_count": 23,
     "metadata": {},
     "output_type": "execute_result"
    }
   ],
   "source": [
    "np.array([line @ vec for line in mat])"
   ]
  },
  {
   "cell_type": "code",
   "execution_count": 24,
   "id": "d832691f",
   "metadata": {},
   "outputs": [
    {
     "data": {
      "text/plain": [
       "array([14, 32, 50])"
      ]
     },
     "execution_count": 24,
     "metadata": {},
     "output_type": "execute_result"
    }
   ],
   "source": [
    "b @ a"
   ]
  },
  {
   "cell_type": "code",
   "execution_count": 5,
   "id": "42e503d6",
   "metadata": {},
   "outputs": [
    {
     "ename": "NameError",
     "evalue": "name 'scipy' is not defined",
     "output_type": "error",
     "traceback": [
      "\u001b[1;31m---------------------------------------------------------------------------\u001b[0m",
      "\u001b[1;31mNameError\u001b[0m                                 Traceback (most recent call last)",
      "\u001b[1;32m~\\AppData\\Local\\Temp/ipykernel_1264/3913268153.py\u001b[0m in \u001b[0;36m<module>\u001b[1;34m\u001b[0m\n\u001b[0;32m      8\u001b[0m     \u001b[1;33m[\u001b[0m\u001b[1;36m0.4\u001b[0m\u001b[1;33m,\u001b[0m \u001b[1;36m1.2\u001b[0m\u001b[1;33m]\u001b[0m\u001b[1;33m\u001b[0m\u001b[1;33m\u001b[0m\u001b[0m\n\u001b[0;32m      9\u001b[0m ])\n\u001b[1;32m---> 10\u001b[1;33m \u001b[0mscipy\u001b[0m\u001b[1;33m.\u001b[0m\u001b[0mspatial\u001b[0m\u001b[1;33m.\u001b[0m\u001b[0mConvexHull\u001b[0m\u001b[1;33m(\u001b[0m\u001b[0mpoints\u001b[0m\u001b[1;33m)\u001b[0m\u001b[1;33m\u001b[0m\u001b[1;33m\u001b[0m\u001b[0m\n\u001b[0m",
      "\u001b[1;31mNameError\u001b[0m: name 'scipy' is not defined"
     ]
    }
   ],
   "source": [
    "points = np.array([\n",
    "    [0, 0],\n",
    "    [0, 1],\n",
    "    [1, 0],\n",
    "    [1, 1],\n",
    "    [0.7, 0.3],\n",
    "    [0.5, 1.5],\n",
    "    [0.4, 1.2]\n",
    "])\n",
    "scipy.spatial.ConvexHull(points)"
   ]
  },
  {
   "cell_type": "code",
   "execution_count": 6,
   "id": "061c7019",
   "metadata": {},
   "outputs": [
    {
     "data": {
      "text/plain": [
       "array([[1, 2],\n",
       "       [4, 5],\n",
       "       [7, 8]])"
      ]
     },
     "execution_count": 6,
     "metadata": {},
     "output_type": "execute_result"
    }
   ],
   "source": [
    "mat = np.array([[1, 2, 3],\n",
    "             [4, 5, 6],\n",
    "             [7, 8, 9]])\n",
    "base = np.array([[1, 0, 0],\n",
    "               [0, 1, 0]])\n",
    "np.array([mat @ base[0], mat @ base[1]]).T"
   ]
  },
  {
   "cell_type": "code",
   "execution_count": 10,
   "id": "886f1803",
   "metadata": {},
   "outputs": [
    {
     "data": {
      "text/plain": [
       "2"
      ]
     },
     "execution_count": 10,
     "metadata": {},
     "output_type": "execute_result"
    }
   ],
   "source": [
    "mat2 = np.array([[2, 3],\n",
    "             [3, -1],\n",
    "             [1, 5],\n",
    "             [7, 0]])\n",
    "mat2[:,0].argmin()"
   ]
  },
  {
   "cell_type": "code",
   "execution_count": 12,
   "id": "44e6b267",
   "metadata": {
    "scrolled": true
   },
   "outputs": [
    {
     "data": {
      "text/plain": [
       "array([[ 1,  1],\n",
       "       [ 2, -3],\n",
       "       [ 0,  3],\n",
       "       [ 6, -2]])"
      ]
     },
     "execution_count": 12,
     "metadata": {},
     "output_type": "execute_result"
    }
   ],
   "source": [
    "mat2 - np.array([1, 2])"
   ]
  },
  {
   "cell_type": "code",
   "execution_count": 18,
   "id": "9e22f095",
   "metadata": {},
   "outputs": [
    {
     "name": "stdout",
     "output_type": "stream",
     "text": [
      "[[ 2  3]\n",
      " [-1  3]\n",
      " [ 1  5]\n",
      " [ 0  7]]\n",
      "[[ 2  3]\n",
      " [ 3 -1]\n",
      " [ 1  5]\n",
      " [ 7  0]]\n"
     ]
    }
   ],
   "source": [
    "print(np.sort(mat2, axis = 1), mat2, sep='\\n')"
   ]
  },
  {
   "cell_type": "code",
   "execution_count": 22,
   "id": "89838b29",
   "metadata": {},
   "outputs": [
    {
     "data": {
      "text/plain": [
       "array([[ 7,  0],\n",
       "       [ 3, -1],\n",
       "       [ 2,  3],\n",
       "       [ 1,  5]])"
      ]
     },
     "execution_count": 22,
     "metadata": {},
     "output_type": "execute_result"
    }
   ],
   "source": [
    "np.array(sorted(mat2, key=lambda x:x[0], reverse=True))"
   ]
  },
  {
   "cell_type": "code",
   "execution_count": 26,
   "id": "5f7b7911",
   "metadata": {
    "scrolled": true
   },
   "outputs": [
    {
     "data": {
      "text/plain": [
       "[array([2, 3]), array([ 3, -1]), array([7, 0])]"
      ]
     },
     "execution_count": 26,
     "metadata": {},
     "output_type": "execute_result"
    }
   ],
   "source": [
    "l = list(mat2)\n",
    "del(l[2])\n",
    "l"
   ]
  },
  {
   "cell_type": "code",
   "execution_count": 33,
   "id": "a92e6014",
   "metadata": {},
   "outputs": [
    {
     "data": {
      "text/plain": [
       "3"
      ]
     },
     "execution_count": 33,
     "metadata": {},
     "output_type": "execute_result"
    }
   ],
   "source": [
    "min(np.array([1, 3, 4, -5]), key=lambda x: -x if x != 4 else float('inf'))"
   ]
  },
  {
   "cell_type": "code",
   "execution_count": null,
   "id": "8e6b79be",
   "metadata": {},
   "outputs": [],
   "source": [
    "min(mat2, key=lambda x: -x if x != 4 else float('inf'))"
   ]
  },
  {
   "cell_type": "code",
   "execution_count": 83,
   "id": "1960707a",
   "metadata": {},
   "outputs": [],
   "source": [
    "def find_convex_hull(points):\n",
    "    \"\"\"Retourne l'enveloppe convexe 2D d'une ensemble de points sous la forme d'un np array.\n",
    "    Ces points sont listés dans un ordre trigonométrique.\n",
    "    Implémente l'algorithme naif de papier cadeau.\"\"\"\n",
    "    #De toute façon, on a toujours 8 points donc assez rapide.\n",
    "    #Réécrire sans numpy ?\n",
    "    \n",
    "    if len(points) <= 1:\n",
    "        return points\n",
    "    \n",
    "    #1. Trouver le point le plus à gauche.\n",
    "    points_dict = {idx : point for idx, point in enumerate(points)}\n",
    "    first_idx, first_hull_point = min(points_dict.items(), key = lambda x : x[1][0])\n",
    "    #2 Emballer le nuage de points\n",
    "    del points_dict[first_idx]\n",
    "    idx, hull_point = min(points_dict.items(), key = lambda x : np.array([0, 1]) @ (x[1] - first_hull_point))\n",
    "    points_dict[first_idx] = first_hull_point\n",
    "    convex_hull = [first_hull_point]\n",
    "    while idx != first_idx:\n",
    "        convex_hull.append(hull_point)\n",
    "        del points_dict[idx]\n",
    "        idx, hull_point= min(points_dict.items(), key = lambda x :  (convex_hull[-2] - convex_hull[-1]) @ (x[1] - hull_point))\n",
    "        points_dict[idx] = hull_point\n",
    "\n",
    "    return np.array(convex_hull)"
   ]
  },
  {
   "cell_type": "code",
   "execution_count": 122,
   "id": "6af1545d",
   "metadata": {},
   "outputs": [
    {
     "data": {
      "text/plain": [
       "array([[1., 1.],\n",
       "       [3., 1.],\n",
       "       [3., 2.],\n",
       "       [2., 3.],\n",
       "       [1., 2.]])"
      ]
     },
     "execution_count": 122,
     "metadata": {},
     "output_type": "execute_result"
    }
   ],
   "source": [
    "points = np.array([\n",
    "    [0, 0],\n",
    "    [1, 0.5],\n",
    "    [0, 0.5],\n",
    "    [1, 0],\n",
    "    [0.5, 1],\n",
    "    [0.2, 0.3],\n",
    "    [0.7, 0.1],\n",
    "    [0.2, 0.6]\n",
    "])*2 + 1\n",
    "convex_hull = find_convex_hull(points)\n",
    "convex_hull"
   ]
  },
  {
   "cell_type": "code",
   "execution_count": 123,
   "id": "79d18e93",
   "metadata": {},
   "outputs": [
    {
     "data": {
      "text/plain": [
       "array([[ 2.,  0.],\n",
       "       [ 0.,  1.],\n",
       "       [-1.,  1.],\n",
       "       [-1., -1.],\n",
       "       [ 0., -1.]])"
      ]
     },
     "execution_count": 123,
     "metadata": {},
     "output_type": "execute_result"
    }
   ],
   "source": [
    "hull_edges = convex_hull[[(i+1) % len(convex_hull) for i in range(len(convex_hull))], :] - convex_hull\n",
    "hull_edges"
   ]
  },
  {
   "cell_type": "code",
   "execution_count": 129,
   "id": "ddf86732",
   "metadata": {},
   "outputs": [],
   "source": [
    "pixels = np.array([[[i, j] for j in range(5)] for i in range(5)])"
   ]
  },
  {
   "cell_type": "code",
   "execution_count": 134,
   "id": "9c105a80",
   "metadata": {},
   "outputs": [
    {
     "name": "stdout",
     "output_type": "stream",
     "text": [
      "[[-0.  2.]\n",
      " [-1.  0.]\n",
      " [-1. -1.]\n",
      " [ 1. -1.]\n",
      " [ 1.  0.]]\n",
      "[[ 2.  0.]\n",
      " [ 0.  1.]\n",
      " [-1.  1.]\n",
      " [-1. -1.]\n",
      " [ 0. -1.]]\n"
     ]
    }
   ],
   "source": [
    "normal_to_hull_edges = np.column_stack((-hull_edges[:, 1], hull_edges[:, 0]))\n",
    "print(normal_to_hull_edges, hull_edges, sep='\\n')"
   ]
  },
  {
   "cell_type": "code",
   "execution_count": 135,
   "id": "2947a186",
   "metadata": {},
   "outputs": [
    {
     "data": {
      "text/plain": [
       "-1.0"
      ]
     },
     "execution_count": 135,
     "metadata": {},
     "output_type": "execute_result"
    }
   ],
   "source": [
    "np.array([1, 1]) @ normal_to_hull_edges[1]"
   ]
  },
  {
   "cell_type": "code",
   "execution_count": 153,
   "id": "8e4b7e80",
   "metadata": {
    "scrolled": true
   },
   "outputs": [
    {
     "data": {
      "image/png": "[encoded data removed]",
      "text/plain": [
       "<Figure size 432x288 with 1 Axes>"
      ]
     },
     "metadata": {
      "needs_background": "light"
     },
     "output_type": "display_data"
    }
   ],
   "source": [
    "i = 0\n",
    "test = (pixels - convex_hull[i]) @ normal_to_hull_edges[i]\n",
    "test[test >= 0] = 1\n",
    "test[test < 0] = 0\n",
    "plt.imshow(test.T.clip(0, 1), origin='lower')\n",
    "plt.show()"
   ]
  },
  {
   "cell_type": "code",
   "execution_count": 165,
   "id": "a259daa0",
   "metadata": {},
   "outputs": [
    {
     "data": {
      "image/png": "[encoded data removed]",
      "text/plain": [
       "<Figure size 432x288 with 1 Axes>"
      ]
     },
     "metadata": {
      "needs_background": "light"
     },
     "output_type": "display_data"
    }
   ],
   "source": [
    "in_hull = np.full(pixels.shape[:-1], True)\n",
    "for i in range(len(convex_hull)):\n",
    "    test = (pixels - convex_hull[i]) @ normal_to_hull_edges[i]\n",
    "    in_hull[test < 0] = False\n",
    "    \n",
    "plt.imshow(in_hull.T, origin='lower')\n",
    "plt.show()"
   ]
  },
  {
   "cell_type": "code",
   "execution_count": 164,
   "id": "b97f4fdd",
   "metadata": {},
   "outputs": [
    {
     "data": {
      "text/plain": [
       "dtype('bool')"
      ]
     },
     "execution_count": 164,
     "metadata": {},
     "output_type": "execute_result"
    }
   ],
   "source": [
    "np.full((2, 3), True).dtype"
   ]
  },
  {
   "cell_type": "code",
   "execution_count": 133,
   "id": "9b94e20a",
   "metadata": {},
   "outputs": [
    {
     "data": {
      "text/plain": [
       "array([[[-1., -1.],\n",
       "        [-1.,  0.],\n",
       "        [-1.,  1.],\n",
       "        [-1.,  2.],\n",
       "        [-1.,  3.]],\n",
       "\n",
       "       [[ 0., -1.],\n",
       "        [ 0.,  0.],\n",
       "        [ 0.,  1.],\n",
       "        [ 0.,  2.],\n",
       "        [ 0.,  3.]],\n",
       "\n",
       "       [[ 1., -1.],\n",
       "        [ 1.,  0.],\n",
       "        [ 1.,  1.],\n",
       "        [ 1.,  2.],\n",
       "        [ 1.,  3.]],\n",
       "\n",
       "       [[ 2., -1.],\n",
       "        [ 2.,  0.],\n",
       "        [ 2.,  1.],\n",
       "        [ 2.,  2.],\n",
       "        [ 2.,  3.]],\n",
       "\n",
       "       [[ 3., -1.],\n",
       "        [ 3.,  0.],\n",
       "        [ 3.,  1.],\n",
       "        [ 3.,  2.],\n",
       "        [ 3.,  3.]]])"
      ]
     },
     "execution_count": 133,
     "metadata": {},
     "output_type": "execute_result"
    }
   ],
   "source": [
    "pixels - convex_hull[i]"
   ]
  },
  {
   "cell_type": "code",
   "execution_count": 8,
   "id": "6e57acd7",
   "metadata": {},
   "outputs": [
    {
     "name": "stdout",
     "output_type": "stream",
     "text": [
      "{0, 1, 2, 3}\n",
      "0\n",
      "1\n",
      "2\n",
      "3\n"
     ]
    }
   ],
   "source": [
    "def test():\n",
    "    s = set(i for i in range(4))\n",
    "    print(s)\n",
    "    while len(s) != 0:\n",
    "        print(s.pop())\n",
    "test()"
   ]
  },
  {
   "cell_type": "code",
   "execution_count": 23,
   "id": "4465bf73",
   "metadata": {},
   "outputs": [
    {
     "name": "stdout",
     "output_type": "stream",
     "text": [
      "[1, 2, 3]\n"
     ]
    }
   ],
   "source": [
    "import random as rd\n",
    "l = [1, 2, 3]\n",
    "rd.shuffle(l)\n",
    "print(l)"
   ]
  },
  {
   "cell_type": "code",
   "execution_count": 25,
   "id": "604cef21",
   "metadata": {},
   "outputs": [
    {
     "data": {
      "text/plain": [
       "array([0, 0, 1])"
      ]
     },
     "execution_count": 25,
     "metadata": {},
     "output_type": "execute_result"
    }
   ],
   "source": [
    "a = np.array([1, 0, 0])\n",
    "b = np.array([0, 1, 0])\n",
    "np.cross(a, b)"
   ]
  },
  {
   "cell_type": "code",
   "execution_count": 26,
   "id": "0157d1a9",
   "metadata": {},
   "outputs": [
    {
     "data": {
      "text/plain": [
       "0"
      ]
     },
     "execution_count": 26,
     "metadata": {},
     "output_type": "execute_result"
    }
   ],
   "source": [
    "a @ b"
   ]
  },
  {
   "cell_type": "code",
   "execution_count": 33,
   "id": "94a0ccef",
   "metadata": {},
   "outputs": [
    {
     "data": {
      "text/plain": [
       "array([6, 5])"
      ]
     },
     "execution_count": 33,
     "metadata": {},
     "output_type": "execute_result"
    }
   ],
   "source": [
    "basis = np.array([[1, 1, 0], [0, 1, 0]])\n",
    "v = np.array([1, 5, 0])\n",
    "basis @ v.T"
   ]
  },
  {
   "cell_type": "code",
   "execution_count": 35,
   "id": "484a41fa",
   "metadata": {},
   "outputs": [
    {
     "data": {
      "text/plain": [
       "array([ True,  True])"
      ]
     },
     "execution_count": 35,
     "metadata": {},
     "output_type": "execute_result"
    }
   ],
   "source": [
    "a = np.array([3, 4])\n",
    "b = np.array([5, 6])\n",
    "a < b"
   ]
  },
  {
   "cell_type": "code",
   "execution_count": 36,
   "id": "a93e1981",
   "metadata": {},
   "outputs": [
    {
     "data": {
      "text/plain": [
       "[(0, 0), (0, 1), (0, 2), (1, 0), (1, 1), (1, 2)]"
      ]
     },
     "execution_count": 36,
     "metadata": {},
     "output_type": "execute_result"
    }
   ],
   "source": [
    "[(i, j) for i in range(2) for j in range(3)]"
   ]
  },
  {
   "cell_type": "code",
   "execution_count": 38,
   "id": "741c2550",
   "metadata": {},
   "outputs": [],
   "source": [
    "bb_center = np.array([0, 0, 0])\n",
    "data_resolution = np.array([10, 10, 10])\n",
    "bb_size = np.array([1, 1, 1])\n",
    "voxel_size = bb_size / data_resolution\n",
    "bb_tangents = np.eye(3)\n",
    "\n",
    "'''\n",
    "   1-----3       ^  z      \n",
    "  /|    /|       |         \n",
    " / |   / |       |--->  y  \n",
    "5--+--7  |      /          \n",
    "|  |  |  |     v  x       \n",
    "|  |  |  |\n",
    "|  |  |  |     Ordre des coins de bb_corners\n",
    "|  0--+--2\n",
    "| /   | /\n",
    "|/    |/\n",
    "4-----6\n",
    "'''\n",
    "bb_corners = np.array([bb_center -\n",
    "    (-1)**x * bb_tangents[0] * bb_size[0] / 2 -\n",
    "    (-1)**y * bb_tangents[1] * bb_size[1] / 2 -\n",
    "    (-1)**z * bb_tangents[2] * bb_size[2] / 2\n",
    "    for x in range(2) for y in range(2) for z in range(2)])"
   ]
  },
  {
   "cell_type": "code",
   "execution_count": 39,
   "id": "857f2c52",
   "metadata": {},
   "outputs": [
    {
     "data": {
      "text/plain": [
       "array([[-0.5, -0.5, -0.5],\n",
       "       [-0.5, -0.5,  0.5],\n",
       "       [-0.5,  0.5, -0.5],\n",
       "       [-0.5,  0.5,  0.5],\n",
       "       [ 0.5, -0.5, -0.5],\n",
       "       [ 0.5, -0.5,  0.5],\n",
       "       [ 0.5,  0.5, -0.5],\n",
       "       [ 0.5,  0.5,  0.5]])"
      ]
     },
     "execution_count": 39,
     "metadata": {},
     "output_type": "execute_result"
    }
   ],
   "source": [
    "bb_corners"
   ]
  },
  {
   "cell_type": "code",
   "execution_count": 49,
   "id": "4f51bf30",
   "metadata": {},
   "outputs": [
    {
     "data": {
      "text/plain": [
       "[array([1]), array([1])]"
      ]
     },
     "execution_count": 49,
     "metadata": {},
     "output_type": "execute_result"
    }
   ],
   "source": [
    "l = [np.array([1])]*2\n",
    "l"
   ]
  },
  {
   "cell_type": "code",
   "execution_count": 44,
   "id": "74f23e79",
   "metadata": {},
   "outputs": [],
   "source": [
    "l[0][0] = 2"
   ]
  },
  {
   "cell_type": "code",
   "execution_count": 54,
   "id": "47d075fc",
   "metadata": {},
   "outputs": [
    {
     "data": {
      "text/plain": [
       "[array([1]), array([1])]"
      ]
     },
     "execution_count": 54,
     "metadata": {},
     "output_type": "execute_result"
    }
   ],
   "source": [
    "l"
   ]
  },
  {
   "cell_type": "code",
   "execution_count": 47,
   "id": "de8052ce",
   "metadata": {},
   "outputs": [
    {
     "name": "stdout",
     "output_type": "stream",
     "text": [
      "0 3\n",
      "1 4\n",
      "2 5\n"
     ]
    }
   ],
   "source": [
    "l1 = [0, 1, 2]\n",
    "l2 = [3, 4, 5]\n",
    "for i, j in zip(l1, l2):\n",
    "    print (i,j)"
   ]
  },
  {
   "cell_type": "code",
   "execution_count": 57,
   "id": "71170879",
   "metadata": {},
   "outputs": [
    {
     "data": {
      "text/plain": [
       "array([1.        , 7.07106781])"
      ]
     },
     "execution_count": 57,
     "metadata": {},
     "output_type": "execute_result"
    }
   ],
   "source": [
    "np.linalg.norm(np.array([[0, 1, 0], [3, 4, 5]]), axis = 1)"
   ]
  },
  {
   "cell_type": "code",
   "execution_count": 28,
   "id": "8cd0a579",
   "metadata": {},
   "outputs": [],
   "source": [
    "#Toutes ces fonctions sont définies dans le cube [0, 1]**3\n",
    "def add_sphere(center, radius, value, data, coord):\n",
    "    mask = (np.linalg.norm(coord - center, axis = 3) <= radius)\n",
    "    data[mask] = value"
   ]
  },
  {
   "cell_type": "code",
   "execution_count": 29,
   "id": "b8186a25",
   "metadata": {},
   "outputs": [],
   "source": [
    "nb_cubes = 100\n",
    "data = np.zeros((nb_cubes, nb_cubes, nb_cubes), dtype=np.uint8)\n",
    "coord = np.array([[[[(i+0.5)/nb_cubes, (j+0.5)/nb_cubes, (k+0.5)/nb_cubes] for i in range(nb_cubes)] for j in range(nb_cubes)] for k in range(nb_cubes)])"
   ]
  },
  {
   "cell_type": "code",
   "execution_count": 30,
   "id": "7d09fa59",
   "metadata": {},
   "outputs": [],
   "source": [
    "add_sphere(np.array([0.5, 0.5, 0.5]), 0.5, 127, data, coord)\n",
    "add_sphere(np.array([0.5, 0.5, 0.5]), 0.2, 255, data, coord)\n",
    "add_sphere(np.array([0.75, 0.3, 0.75]), 0.1, 255, data, coord)\n",
    "add_sphere(np.array([0.4, 0.7, 0.4]), 0.2, 255, data, coord)"
   ]
  },
  {
   "cell_type": "code",
   "execution_count": 36,
   "id": "2608b090",
   "metadata": {},
   "outputs": [
    {
     "data": {
      "application/vnd.jupyter.widget-view+json": {
       "model_id": "7bc01881991345b5adfeb0dd72dd09c7",
       "version_major": 2,
       "version_minor": 0
      },
      "text/plain": [
       "IntSlider(value=0, max=99, step=10)"
      ]
     },
     "metadata": {},
     "output_type": "display_data"
    },
    {
     "data": {
      "image/png": "[encoded data removed]",
      "text/plain": [
       "<Figure size 432x288 with 1 Axes>"
      ]
     },
     "metadata": {
      "needs_background": "light"
     },
     "output_type": "display_data"
    },
    {
     "data": {
      "image/png": "[encoded data removed]",
      "text/plain": [
       "<Figure size 432x288 with 1 Axes>"
      ]
     },
     "metadata": {
      "needs_background": "light"
     },
     "output_type": "display_data"
    },
    {
     "data": {
      "image/png": "[encoded data removed]",
      "text/plain": [
       "<Figure size 432x288 with 1 Axes>"
      ]
     },
     "metadata": {
      "needs_background": "light"
     },
     "output_type": "display_data"
    },
    {
     "data": {
      "image/png": "[encoded data removed]",
      "text/plain": [
       "<Figure size 432x288 with 1 Axes>"
      ]
     },
     "metadata": {
      "needs_background": "light"
     },
     "output_type": "display_data"
    },
    {
     "data": {
      "image/png": "[encoded data removed]",
      "text/plain": [
       "<Figure size 432x288 with 1 Axes>"
      ]
     },
     "metadata": {
      "needs_background": "light"
     },
     "output_type": "display_data"
    },
    {
     "data": {
      "image/png": "[encoded data removed]",
      "text/plain": [
       "<Figure size 432x288 with 1 Axes>"
      ]
     },
     "metadata": {
      "needs_background": "light"
     },
     "output_type": "display_data"
    },
    {
     "data": {
      "image/png": "[encoded data removed]",
      "text/plain": [
       "<Figure size 432x288 with 1 Axes>"
      ]
     },
     "metadata": {
      "needs_background": "light"
     },
     "output_type": "display_data"
    },
    {
     "data": {
      "image/png": "[encoded data removed]",
      "text/plain": [
       "<Figure size 432x288 with 1 Axes>"
      ]
     },
     "metadata": {
      "needs_background": "light"
     },
     "output_type": "display_data"
    },
    {
     "data": {
      "image/png": "[encoded data removed]",
      "text/plain": [
       "<Figure size 432x288 with 1 Axes>"
      ]
     },
     "metadata": {
      "needs_background": "light"
     },
     "output_type": "display_data"
    },
    {
     "data": {
      "image/png": "[encoded data removed]",
      "text/plain": [
       "<Figure size 432x288 with 1 Axes>"
      ]
     },
     "metadata": {
      "needs_background": "light"
     },
     "output_type": "display_data"
    }
   ],
   "source": [
    "import ipywidgets as widgets\n",
    "\n",
    "\n",
    "def test(i):\n",
    "    fig, ax = plt.subplots()\n",
    "    ax.imshow(data[:, :, i].T, origin='lower', vmin=0, vmax=255)\n",
    "    plt.show()\n",
    "\n",
    "int_range = widgets.IntSlider(min=0, max=99, step=10)\n",
    "\n",
    "display(int_range)\n",
    "\n",
    "int_range.observe(lambda change : test(change['new']), names='value')\n",
    "test(0)"
   ]
  },
  {
   "cell_type": "code",
   "execution_count": 9,
   "id": "681dc94d",
   "metadata": {},
   "outputs": [
    {
     "name": "stdout",
     "output_type": "stream",
     "text": [
      "1 4 5\n",
      "2 6 7\n",
      "3 8 9\n"
     ]
    }
   ],
   "source": [
    "l1 = [1, 2, 3]\n",
    "l2 = [(4, 5), (6, 7), (8, 9)]\n",
    "for i, j in zip(l1, l2):\n",
    "    print(i, *j)"
   ]
  },
  {
   "cell_type": "code",
   "execution_count": null,
   "id": "a03ad10d",
   "metadata": {},
   "outputs": [],
   "source": []
  }
 ],
 "metadata": {
  "kernelspec": {
   "display_name": "Python 3 (ipykernel)",
   "language": "python",
   "name": "python3"
  },
  "language_info": {
   "codemirror_mode": {
    "name": "ipython",
    "version": 3
   },
   "file_extension": ".py",
   "mimetype": "text/x-python",
   "name": "python",
   "nbconvert_exporter": "python",
   "pygments_lexer": "ipython3",
   "version": "3.10.0"
  }
 },
 "nbformat": 4,
 "nbformat_minor": 5
}
