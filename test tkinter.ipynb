{
 "cells": [
  {
   "cell_type": "code",
   "execution_count": 1,
   "id": "edb0e868",
   "metadata": {},
   "outputs": [],
   "source": [
    "import numpy as np\n",
    "import tkinter as tk"
   ]
  },
  {
   "cell_type": "code",
   "execution_count": 3,
   "id": "79ff54a8",
   "metadata": {},
   "outputs": [],
   "source": [
    "root = tk.Tk()\n",
    "root.title = 'Projviz'\n",
    "canvas = tk.Canvas(root, width = 100, height = 100, background = 'white')\n"
   ]
  },
  {
   "cell_type": "code",
   "execution_count": 5,
   "id": "1dde6351",
   "metadata": {},
   "outputs": [],
   "source": [
    "top = tk.Tk()\n",
    "\n",
    "C = tk.Canvas(top, bg=\"blue\", height=250, width=300)\n",
    "\n",
    "coord = 10, 50, 240, 210\n",
    "arc = C.create_arc(coord, start=0, extent=150, fill=\"red\")\n",
    "\n",
    "C.pack()\n",
    "top.mainloop()"
   ]
  },
  {
   "cell_type": "code",
   "execution_count": null,
   "id": "781af5af",
   "metadata": {},
   "outputs": [],
   "source": []
  }
 ],
 "metadata": {
  "kernelspec": {
   "display_name": "Python 3 (ipykernel)",
   "language": "python",
   "name": "python3"
  },
  "language_info": {
   "codemirror_mode": {
    "name": "ipython",
    "version": 3
   },
   "file_extension": ".py",
   "mimetype": "text/x-python",
   "name": "python",
   "nbconvert_exporter": "python",
   "pygments_lexer": "ipython3",
   "version": "3.10.0"
  }
 },
 "nbformat": 4,
 "nbformat_minor": 5
}
