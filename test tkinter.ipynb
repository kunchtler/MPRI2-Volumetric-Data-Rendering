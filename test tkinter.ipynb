{
 "cells": [
  {
   "cell_type": "code",
   "execution_count": 5,
   "id": "edb0e868",
   "metadata": {},
   "outputs": [],
   "source": [
    "import numpy as np\n",
    "import tkinter as tk\n",
    "\n",
    "#https://stackoverflow.com/questions/51591456/can-i-use-rgb-in-tkinter/51592104\n",
    "def tk_rgb(rgb):\n",
    "    \"\"\"translates an rgb tuple of float in [0] to a tkinter friendly color code\"\"\"\n",
    "    return \"#%02x%02x%02x\" % rgb"
   ]
  },
  {
   "cell_type": "code",
   "execution_count": 8,
   "id": "79ff54a8",
   "metadata": {},
   "outputs": [],
   "source": [
    "canvas_resolution = np.array([100, 100])\n",
    "canvas_pixel_size = np.array([5, 5])\n",
    "root = tk.Tk()\n",
    "root.title = 'Projviz'\n",
    "canvas = tk.Canvas(root,\n",
    "                   width  = canvas_resolution[0] * canvas_pixel_size[0],\n",
    "                   height = canvas_resolution[1] * canvas_pixel_size[1],\n",
    "                   background = tk_rgb((100, 255, 0)))\n",
    "canvas.pack()\n",
    "canvas.create_rectangle(0, 0, 100, 100, fill='red', outline='')\n",
    "canvas.create_rectangle(0, 0, 10, 10, fill='yellow', outline='')\n",
    "root.mainloop()"
   ]
  },
  {
   "cell_type": "code",
   "execution_count": 17,
   "id": "1dde6351",
   "metadata": {},
   "outputs": [
    {
     "name": "stdout",
     "output_type": "stream",
     "text": [
      "a\n"
     ]
    }
   ],
   "source": [
    "from tkinter import Tk, Canvas\n",
    "from time import sleep\n",
    "\n",
    "root = Tk()\n",
    "cnv = Canvas(root, width=180, height=100)\n",
    "cnv.pack()\n",
    "\n",
    "cnv.create_rectangle(20, 20, 80, 80, fill='red', outline='')\n",
    "\n",
    "def dessiner(c):\n",
    "    cnv.create_rectangle(100, 20, 100+c, 20+c, fill='blue', outline='')\n",
    "\n",
    "cnv.after(1000, dessiner, 42)\n",
    "print('a')\n",
    "root.mainloop()\n"
   ]
  },
  {
   "cell_type": "code",
   "execution_count": 3,
   "id": "781af5af",
   "metadata": {},
   "outputs": [
    {
     "data": {
      "text/plain": [
       "14930352"
      ]
     },
     "execution_count": 3,
     "metadata": {},
     "output_type": "execute_result"
    }
   ],
   "source": [
    "def fib(n):\n",
    "    if n == 0:\n",
    "        return 1\n",
    "    if n == 1:\n",
    "        return 1\n",
    "    return fib(n-1) + fib(n-2)\n",
    "fib(35)"
   ]
  },
  {
   "cell_type": "code",
   "execution_count": 1,
   "id": "cbb5befc",
   "metadata": {},
   "outputs": [
    {
     "name": "stdout",
     "output_type": "stream",
     "text": [
      "hi\n"
     ]
    }
   ],
   "source": [
    "print(\"hi\")"
   ]
  },
  {
   "cell_type": "code",
   "execution_count": 8,
   "id": "2aa44d66",
   "metadata": {},
   "outputs": [
    {
     "name": "stdout",
     "output_type": "stream",
     "text": [
      "Done!     "
     ]
    }
   ],
   "source": [
    "import itertools\n",
    "import threading\n",
    "import time\n",
    "import sys\n",
    "\n",
    "done = False\n",
    "#here is the animation\n",
    "def animate():\n",
    "    for c in itertools.cycle(['|', '/', '-', '\\\\']):\n",
    "        if done:\n",
    "            break\n",
    "        sys.stdout.write('\\rloading ' + c)\n",
    "        sys.stdout.flush()\n",
    "        time.sleep(0.1)\n",
    "    sys.stdout.write('\\rDone!     ')\n",
    "\n",
    "t = threading.Thread(target=animate)\n",
    "t.start()\n",
    "\n",
    "#long process here\n",
    "time.sleep(10)\n",
    "done = True"
   ]
  },
  {
   "cell_type": "code",
   "execution_count": null,
   "id": "b2ec3675",
   "metadata": {},
   "outputs": [],
   "source": [
    "import threading\n",
    "from time import sleep\n",
    "from tkinter import Tk, Canvas\n",
    "\n",
    "root = Tk()\n",
    "cnv = Canvas(root, width=180, height=100)\n",
    "cnv.pack()\n",
    "\n",
    "cnv.create_rectangle(20, 20, 80, 80, fill='red', outline='')\n",
    "\n",
    "def dessiner(c):\n",
    "    cnv.create_rectangle(100, 20, 100+c, 20+c, fill='blue', outline='')\n",
    "\n",
    "dessiner(10)\n",
    "fib(35)\n",
    "cnv.after(1000, dessiner, 42)\n",
    "\n",
    "root.mainloop()"
   ]
  },
  {
   "cell_type": "code",
   "execution_count": 4,
   "id": "eb53463d",
   "metadata": {},
   "outputs": [],
   "source": [
    "import threading\n",
    "from time import sleep\n",
    "import tkinter as tk\n",
    "import numpy as np\n",
    "\n",
    "def tk_rgb(rgb):\n",
    "    \"\"\"translates an rgb tuple of float in [0] to a tkinter friendly color code\"\"\"\n",
    "    return \"#%02x%02x%02x\" % rgb\n",
    "\n",
    "canvas_resolution = np.array([100, 100])\n",
    "canvas_pixel_size = np.array([5, 5])\n",
    "\n",
    "root = Tk()\n",
    "canvas = tk.Canvas(root,\n",
    "                   width  = canvas_resolution[0] * canvas_pixel_size[0],\n",
    "                   height = canvas_resolution[1] * canvas_pixel_size[1],\n",
    "                   background = tk_rgb((100, 255, 0)))\n",
    "canvas.pack()\n",
    "\n",
    "def test():\n",
    "    canvas.create_rectangle(20, 20, 80, 80, fill='red', outline='')\n",
    "    \n",
    "canvas.create_rectangle(0, 0, 20, 20, fill='yellow', outline='')\n",
    "th = threading.Thread(target = test)\n",
    "canvas.create_rectangle(80, 80, 100, 100, fill='blue', outline='')\n",
    "root.mainloop()\n"
   ]
  },
  {
   "cell_type": "code",
   "execution_count": 2,
   "id": "beb71671",
   "metadata": {},
   "outputs": [],
   "source": [
    "from tkinter import *\n",
    "\n",
    "def fib(n):\n",
    "    if n == 0:\n",
    "        return 1\n",
    "    if n == 1:\n",
    "        return 1\n",
    "    return fib(n-1) + fib(n-2)\n",
    "\n",
    "def move(i, j):\n",
    "    if i == 99:\n",
    "        i = 0\n",
    "        j += 1\n",
    "    if j == 99:\n",
    "        return\n",
    "    cvs.create_rectangle(i, j, i+1, j+1, fill='red', outline='')\n",
    "    cvs.after(1, move, i+1, j)\n",
    "\n",
    "# Création d'un canevas\n",
    "w=Tk()\n",
    "cvs=Canvas(w, width=100, height=100, highlightthickness=0,\n",
    "           bg=\"ivory\")\n",
    "cvs.pack()\n",
    "\n",
    "# Lancement de l'animation\n",
    "move(0, 0)\n",
    "w.mainloop()"
   ]
  },
  {
   "cell_type": "code",
   "execution_count": 3,
   "id": "9d2cbc8b",
   "metadata": {},
   "outputs": [
    {
     "ename": "KeyboardInterrupt",
     "evalue": "",
     "output_type": "error",
     "traceback": [
      "\u001b[1;31m---------------------------------------------------------------------------\u001b[0m",
      "\u001b[1;31mKeyboardInterrupt\u001b[0m                         Traceback (most recent call last)",
      "\u001b[1;32m~\\AppData\\Local\\Temp/ipykernel_208/1494560412.py\u001b[0m in \u001b[0;36m<module>\u001b[1;34m\u001b[0m\n\u001b[0;32m     20\u001b[0m             \u001b[0mcvs\u001b[0m\u001b[1;33m.\u001b[0m\u001b[0mafter\u001b[0m\u001b[1;33m(\u001b[0m\u001b[1;36m1\u001b[0m\u001b[1;33m)\u001b[0m\u001b[1;33m\u001b[0m\u001b[1;33m\u001b[0m\u001b[0m\n\u001b[0;32m     21\u001b[0m \u001b[1;31m# Lancement de l'animation\u001b[0m\u001b[1;33m\u001b[0m\u001b[1;33m\u001b[0m\u001b[0m\n\u001b[1;32m---> 22\u001b[1;33m \u001b[0mtest\u001b[0m\u001b[1;33m(\u001b[0m\u001b[1;33m)\u001b[0m\u001b[1;33m\u001b[0m\u001b[1;33m\u001b[0m\u001b[0m\n\u001b[0m\u001b[0;32m     23\u001b[0m \u001b[0mw\u001b[0m\u001b[1;33m.\u001b[0m\u001b[0mmainloop\u001b[0m\u001b[1;33m(\u001b[0m\u001b[1;33m)\u001b[0m\u001b[1;33m\u001b[0m\u001b[1;33m\u001b[0m\u001b[0m\n",
      "\u001b[1;32m~\\AppData\\Local\\Temp/ipykernel_208/1494560412.py\u001b[0m in \u001b[0;36mtest\u001b[1;34m()\u001b[0m\n\u001b[0;32m     18\u001b[0m         \u001b[1;32mfor\u001b[0m \u001b[0mj\u001b[0m \u001b[1;32min\u001b[0m \u001b[0mrange\u001b[0m\u001b[1;33m(\u001b[0m\u001b[1;36m100\u001b[0m\u001b[1;33m)\u001b[0m\u001b[1;33m:\u001b[0m\u001b[1;33m\u001b[0m\u001b[1;33m\u001b[0m\u001b[0m\n\u001b[0;32m     19\u001b[0m             \u001b[0mcvs\u001b[0m\u001b[1;33m.\u001b[0m\u001b[0mcreate_rectangle\u001b[0m\u001b[1;33m(\u001b[0m\u001b[0mi\u001b[0m\u001b[1;33m,\u001b[0m \u001b[0mj\u001b[0m\u001b[1;33m,\u001b[0m \u001b[0mi\u001b[0m\u001b[1;33m+\u001b[0m\u001b[1;36m1\u001b[0m\u001b[1;33m,\u001b[0m \u001b[0mj\u001b[0m\u001b[1;33m+\u001b[0m\u001b[1;36m1\u001b[0m\u001b[1;33m,\u001b[0m \u001b[0mfill\u001b[0m\u001b[1;33m=\u001b[0m\u001b[1;34m'red'\u001b[0m\u001b[1;33m,\u001b[0m \u001b[0moutline\u001b[0m\u001b[1;33m=\u001b[0m\u001b[1;34m''\u001b[0m\u001b[1;33m)\u001b[0m\u001b[1;33m\u001b[0m\u001b[1;33m\u001b[0m\u001b[0m\n\u001b[1;32m---> 20\u001b[1;33m             \u001b[0mcvs\u001b[0m\u001b[1;33m.\u001b[0m\u001b[0mafter\u001b[0m\u001b[1;33m(\u001b[0m\u001b[1;36m1\u001b[0m\u001b[1;33m)\u001b[0m\u001b[1;33m\u001b[0m\u001b[1;33m\u001b[0m\u001b[0m\n\u001b[0m\u001b[0;32m     21\u001b[0m \u001b[1;31m# Lancement de l'animation\u001b[0m\u001b[1;33m\u001b[0m\u001b[1;33m\u001b[0m\u001b[0m\n\u001b[0;32m     22\u001b[0m \u001b[0mtest\u001b[0m\u001b[1;33m(\u001b[0m\u001b[1;33m)\u001b[0m\u001b[1;33m\u001b[0m\u001b[1;33m\u001b[0m\u001b[0m\n",
      "\u001b[1;32mC:\\Program Files\\Python310\\lib\\tkinter\\__init__.py\u001b[0m in \u001b[0;36mafter\u001b[1;34m(self, ms, func, *args)\u001b[0m\n\u001b[0;32m    832\u001b[0m         \u001b[1;32mif\u001b[0m \u001b[0mfunc\u001b[0m \u001b[1;32mis\u001b[0m \u001b[1;32mNone\u001b[0m\u001b[1;33m:\u001b[0m\u001b[1;33m\u001b[0m\u001b[1;33m\u001b[0m\u001b[0m\n\u001b[0;32m    833\u001b[0m             \u001b[1;31m# I'd rather use time.sleep(ms*0.001)\u001b[0m\u001b[1;33m\u001b[0m\u001b[1;33m\u001b[0m\u001b[0m\n\u001b[1;32m--> 834\u001b[1;33m             \u001b[0mself\u001b[0m\u001b[1;33m.\u001b[0m\u001b[0mtk\u001b[0m\u001b[1;33m.\u001b[0m\u001b[0mcall\u001b[0m\u001b[1;33m(\u001b[0m\u001b[1;34m'after'\u001b[0m\u001b[1;33m,\u001b[0m \u001b[0mms\u001b[0m\u001b[1;33m)\u001b[0m\u001b[1;33m\u001b[0m\u001b[1;33m\u001b[0m\u001b[0m\n\u001b[0m\u001b[0;32m    835\u001b[0m             \u001b[1;32mreturn\u001b[0m \u001b[1;32mNone\u001b[0m\u001b[1;33m\u001b[0m\u001b[1;33m\u001b[0m\u001b[0m\n\u001b[0;32m    836\u001b[0m         \u001b[1;32melse\u001b[0m\u001b[1;33m:\u001b[0m\u001b[1;33m\u001b[0m\u001b[1;33m\u001b[0m\u001b[0m\n",
      "\u001b[1;31mKeyboardInterrupt\u001b[0m: "
     ]
    }
   ],
   "source": [
    "from tkinter import *\n",
    "\n",
    "def fib(n):\n",
    "    if n == 0:\n",
    "        return 1\n",
    "    if n == 1:\n",
    "        return 1\n",
    "    return fib(n-1) + fib(n-2)\n",
    "\n",
    "# Création d'un canevas\n",
    "w=Tk()\n",
    "cvs=Canvas(w, width=100, height=100, highlightthickness=0,\n",
    "           bg=\"ivory\")\n",
    "cvs.pack()\n",
    "\n",
    "def test():\n",
    "    for i in range(100):\n",
    "        for j in range(100):\n",
    "            cvs.create_rectangle(i, j, i+1, j+1, fill='red', outline='')\n",
    "            cvs.after(1)\n",
    "# Lancement de l'animation\n",
    "test()\n",
    "w.mainloop()"
   ]
  },
  {
   "cell_type": "code",
   "execution_count": 9,
   "id": "36721015",
   "metadata": {},
   "outputs": [],
   "source": [
    "a = np.zeros((2, 3, 4))"
   ]
  },
  {
   "cell_type": "code",
   "execution_count": 10,
   "id": "cfe2e218",
   "metadata": {},
   "outputs": [
    {
     "data": {
      "text/plain": [
       "array([[[0., 0., 0., 0.],\n",
       "        [0., 0., 0., 0.],\n",
       "        [0., 0., 0., 0.]],\n",
       "\n",
       "       [[0., 0., 0., 0.],\n",
       "        [0., 0., 0., 0.],\n",
       "        [0., 0., 0., 0.]]])"
      ]
     },
     "execution_count": 10,
     "metadata": {},
     "output_type": "execute_result"
    }
   ],
   "source": [
    "a"
   ]
  },
  {
   "cell_type": "code",
   "execution_count": 12,
   "id": "64748d62",
   "metadata": {},
   "outputs": [
    {
     "data": {
      "text/plain": [
       "(4, 3, 2)"
      ]
     },
     "execution_count": 12,
     "metadata": {},
     "output_type": "execute_result"
    }
   ],
   "source": [
    "a.T.shape"
   ]
  },
  {
   "cell_type": "code",
   "execution_count": null,
   "id": "3959a8da",
   "metadata": {},
   "outputs": [],
   "source": []
  }
 ],
 "metadata": {
  "kernelspec": {
   "display_name": "Python 3 (ipykernel)",
   "language": "python",
   "name": "python3"
  },
  "language_info": {
   "codemirror_mode": {
    "name": "ipython",
    "version": 3
   },
   "file_extension": ".py",
   "mimetype": "text/x-python",
   "name": "python",
   "nbconvert_exporter": "python",
   "pygments_lexer": "ipython3",
   "version": "3.10.0"
  }
 },
 "nbformat": 4,
 "nbformat_minor": 5
}
